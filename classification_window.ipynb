{
 "cells": [
  {
   "cell_type": "code",
   "execution_count": 1,
   "metadata": {
    "ExecuteTime": {
     "end_time": "2023-05-23T12:35:46.480297519Z",
     "start_time": "2023-05-23T12:35:46.062272048Z"
    }
   },
   "outputs": [],
   "source": [
    "import numpy as np\n",
    "import pandas as pd\n",
    "import sklearn\n",
    "import numpy as np\n",
    "from sklearn.model_selection import train_test_split\n",
    "from catboost import CatBoostClassifier, Pool\n",
    "from sklearn.metrics import roc_curve, auc\n",
    "from sklearn.model_selection import StratifiedKFold\n",
    "import warnings\n",
    "import matplotlib.pyplot as plt\n",
    "import seaborn as sns\n",
    "\n",
    "sns.set()"
   ]
  },
  {
   "cell_type": "code",
   "execution_count": null,
   "metadata": {
    "ExecuteTime": {
     "end_time": "2023-05-23T12:35:50.383690046Z",
     "start_time": "2023-05-23T12:35:46.489756084Z"
    }
   },
   "outputs": [],
   "source": [
    "data = pd.read_csv(\"data/data.csv\", index_col=0)"
   ]
  },
  {
   "cell_type": "code",
   "execution_count": null,
   "metadata": {
    "ExecuteTime": {
     "end_time": "2023-05-23T12:35:50.561664288Z",
     "start_time": "2023-05-23T12:35:50.389653101Z"
    }
   },
   "outputs": [],
   "source": [
    "data = data.set_index('name')"
   ]
  },
  {
   "cell_type": "code",
   "execution_count": null,
   "metadata": {
    "ExecuteTime": {
     "end_time": "2023-05-23T12:35:50.877497896Z",
     "start_time": "2023-05-23T12:35:50.857029821Z"
    }
   },
   "outputs": [],
   "source": [
    "X, y = data.drop(columns=['target']), data['target']"
   ]
  },
  {
   "cell_type": "code",
   "execution_count": null,
   "metadata": {},
   "outputs": [],
   "source": [
    "clfs = []"
   ]
  },
  {
   "cell_type": "code",
   "execution_count": null,
   "metadata": {
    "ExecuteTime": {
     "end_time": "2023-05-13T17:21:20.145650Z",
     "start_time": "2023-05-13T17:21:06.270134Z"
    },
    "scrolled": true
   },
   "outputs": [],
   "source": [
    "params = {\n",
    "            'iterations':1000,\n",
    "            'learning_rate':0.05,\n",
    "            'depth':7,\n",
    "            'eval_metric':'F1'\n",
    "}\n",
    "\n",
    "tprs = []\n",
    "fprs = []\n",
    "aucs = []\n",
    "recall_arr = np.array([])\n",
    "f1_arr = np.array([])\n",
    "precision_arr = np.array([])\n",
    "clfs = []\n",
    "mean_fpr = np.linspace(0,1,100)\n",
    "i = 1\n",
    "plt.clf()\n",
    "n_fold = 5\n",
    "cv = StratifiedKFold(n_splits=n_fold, shuffle=True)\n",
    "\n",
    "for fold, (train_index, val_index) in enumerate(cv.split(X, y)):\n",
    "    X_train_fold = X.iloc[train_index]\n",
    "    X_val_fold = X.iloc[val_index]\n",
    "\n",
    "    y_train_fold = y.iloc[train_index]\n",
    "    y_val_fold = y.iloc[val_index]\n",
    "\n",
    "    clf = CatBoostClassifier(**params)\n",
    "\n",
    "    train_dataset = Pool(data=X_train_fold, label=y_train_fold)\n",
    "    eval_dataset = Pool(data=X_val_fold, label=y_val_fold)\n",
    "\n",
    "    clf.fit(train_dataset, verbose = 1)\n",
    "    \n",
    "    clf.save_model(f'{fold}_clf.cbm')\n",
    "    clfs.append(clf)\n",
    "\n",
    "    y_pred = clf.predict(Pool(data=X_val_fold))\n",
    "    y_pred_proba = clf.predict_proba(Pool(data=X_val_fold))\n",
    "\n",
    "    fpr, tpr, t = roc_curve(y_val_fold, y_pred_proba[:,1])\n",
    "\n",
    "    tprs.append(tpr)\n",
    "    fprs.append(fpr)\n",
    "    roc_auc = auc(fpr, tpr)\n",
    "    aucs.append(roc_auc)\n",
    "\n",
    "\n",
    "    recall_arr = np.append(recall_arr, sklearn.metrics.recall_score(y_val_fold, y_pred))\n",
    "    f1_arr = np.append(f1_arr, sklearn.metrics.f1_score(y_val_fold, y_pred))\n",
    "    precision_arr = np.append(precision_arr, sklearn.metrics.precision_score(y_val_fold, y_pred))\n",
    "    clfs.append(clf)\n",
    "\n",
    "    print(f\"f1: {sklearn.metrics.f1_score(y_val_fold, y_pred)}\")\n",
    "    print(f\"precision: {sklearn.metrics.precision_score(y_val_fold, y_pred)}\")\n",
    "    print(f\"recall: {sklearn.metrics.recall_score(y_val_fold, y_pred)}\")\n",
    "\n",
    "print(f\"f1: {round(f1_arr.mean(),3)}\")\n",
    "print(f\"precision: {round(precision_arr.mean(),3)}\")\n",
    "print(f\"recall: {round(recall_arr.mean(),3)}\")"
   ]
  },
  {
   "cell_type": "code",
   "execution_count": null,
   "metadata": {
    "ExecuteTime": {
     "end_time": "2023-05-13T17:17:24.926206Z",
     "start_time": "2023-05-13T17:17:24.073008Z"
    }
   },
   "outputs": [],
   "source": [
    "plt.figure(figsize=(10,10), dpi=90)\n",
    "plt.plot([0,1],[0,1],linestyle = '--',lw = 2,color = 'black')\n",
    "for i in range(len(fprs)):\n",
    "    plt.plot(fprs[i], tprs[i], lw=2, alpha=0.3, label='ROC fold %d (AUC = %0.5f)' % (i+1, aucs[i]))\n",
    "\n",
    "\n",
    "plt.xlabel('False Positive Rate')\n",
    "plt.ylabel('True Positive Rate')\n",
    "plt.title(' ROC')\n",
    "plt.legend(loc=\"lower right\")\n",
    "plt.savefig(\"5s_catboost_roc.png\")"
   ]
  },
  {
   "cell_type": "code",
   "execution_count": null,
   "metadata": {},
   "outputs": [],
   "source": [
    "clf.save_model('window_detection.cbm')"
   ]
  },
  {
   "cell_type": "code",
   "execution_count": null,
   "metadata": {},
   "outputs": [],
   "source": []
  }
 ],
 "metadata": {
  "kernelspec": {
   "display_name": "Python 3 (ipykernel)",
   "language": "python",
   "name": "python3"
  },
  "language_info": {
   "codemirror_mode": {
    "name": "ipython",
    "version": 3
   },
   "file_extension": ".py",
   "mimetype": "text/x-python",
   "name": "python",
   "nbconvert_exporter": "python",
   "pygments_lexer": "ipython3",
   "version": "3.10.6"
  }
 },
 "nbformat": 4,
 "nbformat_minor": 1
}
